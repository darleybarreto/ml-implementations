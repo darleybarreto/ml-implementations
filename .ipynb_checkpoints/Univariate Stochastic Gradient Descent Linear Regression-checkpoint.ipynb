{
 "cells": [
  {
   "cell_type": "code",
   "execution_count": 1,
   "metadata": {
    "collapsed": true
   },
   "outputs": [],
   "source": [
    "#%matplotlib inline\n",
    "import numpy as np\n",
    "import matplotlib.pyplot as plt\n",
    "import random\n",
    "from sklearn.utils import shuffle"
   ]
  },
  {
   "cell_type": "code",
   "execution_count": 2,
   "metadata": {
    "collapsed": true
   },
   "outputs": [],
   "source": [
    "def cost(x, y, theta):\n",
    "\n",
    "    yi_number = y.size\n",
    "\n",
    "    cost = (1./(2.*yi_number))*(x*theta-y).T*(x*theta-y)\n",
    "    \n",
    "    return cost.flat[0]\n",
    "\n",
    "# gradiente descendente estocastico\n",
    "def sthocastic_gradient_descent_one_variable(x, y, theta, alpha, epoc):\n",
    " \n",
    "    yi_number = y.size\n",
    "       \n",
    "    cost_iter = []\n",
    "\n",
    "    for i in np.arange(epoc):\n",
    "        for j in np.arange(y.shape[0]):\n",
    "            theta = theta-(alpha/yi_number)*(x[j].T*np.asarray((x*theta)[j] - y[j])[0]).reshape((2, 1))\n",
    "        cost_iter.append(cost(x,y,theta))\n",
    "        x, y = shuffle(x, y, random_state=np.random.RandomState(random.randint(1, 10000)))\n",
    "    return theta, cost_iter\n"
   ]
  },
  {
   "cell_type": "code",
   "execution_count": 4,
   "metadata": {
    "collapsed": false
   },
   "outputs": [],
   "source": [
    "data = np.loadtxt('/ex1data1.txt', delimiter=',')\n",
    "x = np.ones(data.shape)\n",
    "x[:,1] = data[:,0]\n",
    "\n",
    "y = np.zeros(shape=(data.shape[0],1))\n",
    "y[:,0] = data[:,1]\n",
    "\n",
    "alpha = 0.001\n",
    "epoc = 1000\n",
    "\n",
    "#iniciando theta com valores 0 e dimensoes 2 x 1  \n",
    "theta = np.matrix([[0.],[0.]])"
   ]
  },
  {
   "cell_type": "code",
   "execution_count": 5,
   "metadata": {
    "collapsed": false
   },
   "outputs": [],
   "source": [
    "t, j = sthocastic_gradient_descent_one_variable(x,y, theta, alpha, epoc)\n",
    "\n",
    "plt.scatter(data[:, 0], data[:, 1], marker='h', c='r')\n",
    "plt.xlabel('Caracteristica 1')\n",
    "plt.ylabel('Caracteristica 2')\n",
    "plt.show()\n",
    "\n",
    "\n",
    "result = x*t\n",
    "plt.plot(data[:,0], result[:,0], 'g-')\n",
    "plt.scatter(data[:, 0], data[:, 1], marker='h', c='r')\n",
    "plt.title('Regressao Linear Usando Gradiente Descendente Estocastico Univariado\\n')\n",
    "plt.xlabel('Caracteristica 1')\n",
    "plt.ylabel('Caracteristica 2')\n",
    "plt.show()\n",
    "\n",
    "plt.plot(np.arange(0, epoc, 1), j)\n",
    "plt.xlabel('Epocas de treinamento')\n",
    "plt.ylabel('Erro Quadratico Medio(EQM)')\n",
    "plt.show()\n"
   ]
  },
  {
   "cell_type": "code",
   "execution_count": 5,
   "metadata": {
    "collapsed": false
   },
   "outputs": [
    {
     "data": {
      "text/plain": [
       "matrix([[-0.57661252],\n",
       "        [ 0.85945752]])"
      ]
     },
     "execution_count": 5,
     "metadata": {},
     "output_type": "execute_result"
    }
   ],
   "source": [
    "t"
   ]
  },
  {
   "cell_type": "code",
   "execution_count": null,
   "metadata": {
    "collapsed": true
   },
   "outputs": [],
   "source": []
  }
 ],
 "metadata": {
  "kernelspec": {
   "display_name": "Python 3",
   "language": "python",
   "name": "python3"
  },
  "language_info": {
   "codemirror_mode": {
    "name": "ipython",
    "version": 3
   },
   "file_extension": ".py",
   "mimetype": "text/x-python",
   "name": "python",
   "nbconvert_exporter": "python",
   "pygments_lexer": "ipython3",
   "version": "3.6.0"
  },
  "widgets": {
   "state": {},
   "version": "1.1.2"
  }
 },
 "nbformat": 4,
 "nbformat_minor": 0
}
