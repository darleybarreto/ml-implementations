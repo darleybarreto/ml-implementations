{
 "cells": [
  {
   "cell_type": "code",
   "execution_count": 100,
   "metadata": {
    "collapsed": true
   },
   "outputs": [],
   "source": [
    "import numpy as np\n",
    "import matplotlib.pyplot as plt\n",
    "import matplotlib.patches as mpatches\n",
    "from pylab import plot, show, xlabel, ylabel"
   ]
  },
  {
   "cell_type": "code",
   "execution_count": 18,
   "metadata": {
    "collapsed": true
   },
   "outputs": [],
   "source": [
    "# gradiente descendente em batch\n",
    "def batch_gradient_descent(x, y):\n",
    "    \n",
    "    return np.dot(np.linalg.pinv(np.dot(x.T,x)),np.dot(x.T,y))\n",
    "    \n"
   ]
  },
  {
   "cell_type": "code",
   "execution_count": 102,
   "metadata": {
    "collapsed": false
   },
   "outputs": [],
   "source": [
    "data = np.loadtxt('ex1data2.txt', delimiter=' ')\n",
    "x = np.ones(data.shape)\n",
    "x[:, 1:]  = data[:, :2]\n",
    "\n",
    "\n",
    "y = np.zeros(shape=(data.shape[0],1))\n",
    "y[:,0] = data[:,2]\n",
    "\n",
    "t = batch_gradient_descent(x, y)\n",
    "\n",
    "result = np.dot(x,t)\n",
    "\n",
    "red_patch = mpatches.Patch(color='red', label='Preco do Imovel')\n",
    "green_path = mpatches.Patch(color='green', label='Preco do Imovel Estimado')\n",
    "\n",
    "plt.legend(handles=[red_patch, green_path])\n",
    "\n",
    "plt.plot(data[:, 2],'r-')\n",
    "plt.plot(result, 'g-')\n",
    "plt.title('Regressao Linear Usando Gradiente Descendente em Batch\\n')\n",
    "plt.show()\n",
    "\n"
   ]
  },
  {
   "cell_type": "code",
   "execution_count": null,
   "metadata": {
    "collapsed": true
   },
   "outputs": [],
   "source": []
  }
 ],
 "metadata": {
  "kernelspec": {
   "display_name": "Python 3",
   "language": "python",
   "name": "python3"
  },
  "language_info": {
   "codemirror_mode": {
    "name": "ipython",
    "version": 3
   },
   "file_extension": ".py",
   "mimetype": "text/x-python",
   "name": "python",
   "nbconvert_exporter": "python",
   "pygments_lexer": "ipython3",
   "version": "3.6.0"
  },
  "widgets": {
   "state": {},
   "version": "1.1.2"
  }
 },
 "nbformat": 4,
 "nbformat_minor": 0
}
