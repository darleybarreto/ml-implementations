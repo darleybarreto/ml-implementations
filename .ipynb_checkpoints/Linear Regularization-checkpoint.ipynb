{
 "cells": [
  {
   "cell_type": "code",
   "execution_count": 1,
   "metadata": {
    "collapsed": true
   },
   "outputs": [],
   "source": [
    "import numpy as np\n",
    "import matplotlib.pyplot as plt\n",
    "from pylab import plot, show, xlabel, ylabel"
   ]
  },
  {
   "cell_type": "code",
   "execution_count": 153,
   "metadata": {
    "collapsed": true
   },
   "outputs": [],
   "source": [
    "# gradiente descendente em batch regularizado\n",
    "def batch_gradient_descent_reg(x, y, lambdaI):\n",
    "    \n",
    "    return np.dot(np.linalg.pinv(np.dot(x.T,x) + lambdaI),np.dot(x.T,y))\n",
    "\n",
    "def cost(y0, y1):\n",
    "\n",
    "    cost = 0.5*np.dot((y0 - y1).T,(y0-y1))\n",
    "    \n",
    "    return cost.flat[0]\n"
   ]
  },
  {
   "cell_type": "code",
   "execution_count": 170,
   "metadata": {
    "collapsed": false
   },
   "outputs": [],
   "source": [
    "data = np.loadtxt('ex1data3.txt', delimiter=' ')\n",
    "\n",
    "x_train = np.ones(shape=(30,6))\n",
    "x_train[:, 1:]  = data[:30, :5]\n",
    "\n",
    "y_train = np.zeros(shape=(30,1))\n",
    "y_train[:,0] = data[:30 ,5]\n",
    "\n",
    "x_test = np.ones(shape=(17,6))\n",
    "x_test[:, 1:]  = data[30:, :5]\n",
    "\n",
    "y_test = np.zeros(shape=(17,1))\n",
    "y_test[:,0] = data[30: ,5]\n",
    "\n",
    "lambdasi = [0,1,2,3,4,5]\n",
    "lambdasf = []\n",
    "\n",
    "for i in lambdasi:\n",
    "    \n",
    "    lambdaI = np.identity(6)\n",
    "    lambdaI[0][0] = 0\n",
    "    lambdasf.append(batch_gradient_descent_reg(x_train, y_train, lambdaI*i))\n",
    "    "
   ]
  },
  {
   "cell_type": "code",
   "execution_count": 142,
   "metadata": {
    "collapsed": false
   },
   "outputs": [],
   "source": [
    "result0 = np.dot(x,lambdasf[0])\n",
    "result1 = np.dot(x,lambdasf[1])\n",
    "result2 = np.dot(x,lambdasf[2])\n",
    "result3 = np.dot(x,lambdasf[3])\n",
    "result4 = np.dot(x,lambdasf[4])\n",
    "result5 = np.dot(x,lambdasf[5])\n",
    "\n"
   ]
  },
  {
   "cell_type": "code",
   "execution_count": 143,
   "metadata": {
    "collapsed": false
   },
   "outputs": [],
   "source": [
    "plt.plot(data[:, 5],'r-')\n",
    "plt.plot(result0, 'g-')\n",
    "plt.title('Regressao Linear Usando Gradiente Descendente em Batch Regularizado (Lambda 0)\\n')\n",
    "plt.show()"
   ]
  },
  {
   "cell_type": "code",
   "execution_count": 144,
   "metadata": {
    "collapsed": false
   },
   "outputs": [],
   "source": [
    "plt.plot(data[:, 5],'r-')\n",
    "plt.plot(result1, 'g-')\n",
    "plt.title('Regressao Linear Usando Gradiente Descendente em Batch Regularizado (Lambda 1)\\n')\n",
    "plt.show()"
   ]
  },
  {
   "cell_type": "code",
   "execution_count": 102,
   "metadata": {
    "collapsed": true
   },
   "outputs": [],
   "source": [
    "plt.plot(data[:, 5],'r-')\n",
    "plt.plot(result2, 'g-')\n",
    "plt.title('Regressao Linear Usando Gradiente Descendente em Batch Regularizado (Lambda 2)\\n')\n",
    "plt.show()"
   ]
  },
  {
   "cell_type": "code",
   "execution_count": 103,
   "metadata": {
    "collapsed": true
   },
   "outputs": [],
   "source": [
    "plt.plot(data[:, 5],'r-')\n",
    "plt.plot(result3, 'g-')\n",
    "plt.title('Regressao Linear Usando Gradiente Descendente em Batch Regularizado (Lambda 3)\\n')\n",
    "plt.show()"
   ]
  },
  {
   "cell_type": "code",
   "execution_count": 104,
   "metadata": {
    "collapsed": true
   },
   "outputs": [],
   "source": [
    "plt.plot(data[:, 5],'r-')\n",
    "plt.plot(result4, 'g-')\n",
    "plt.title('Regressao Linear Usando Gradiente Descendente em Batch Regularizado (Lambda 4)\\n')\n",
    "plt.show()"
   ]
  },
  {
   "cell_type": "code",
   "execution_count": 105,
   "metadata": {
    "collapsed": true
   },
   "outputs": [],
   "source": [
    "plt.plot(data[:, 5],'r-')\n",
    "plt.plot(result5, 'g-')\n",
    "plt.title('Regressao Linear Usando Gradiente Descendente em Batch Regularizado (Lambda 5)\\n')\n",
    "plt.show()"
   ]
  },
  {
   "cell_type": "code",
   "execution_count": 145,
   "metadata": {
    "collapsed": false
   },
   "outputs": [],
   "source": [
    "plt.plot(lambdasf[0], 'bo')\n",
    "plt.title('Coeficientes com Lambda 0\\n')\n",
    "plt.show()"
   ]
  },
  {
   "cell_type": "code",
   "execution_count": 146,
   "metadata": {
    "collapsed": false
   },
   "outputs": [],
   "source": [
    "plt.plot(lambdasf[1], 'bo')\n",
    "plt.title('Coeficientes com Lambda 1\\n')\n",
    "plt.show()"
   ]
  },
  {
   "cell_type": "code",
   "execution_count": 147,
   "metadata": {
    "collapsed": true
   },
   "outputs": [],
   "source": [
    "plt.plot(lambdasf[2], 'bo')\n",
    "plt.title('Coeficientes com Lambda 2\\n')\n",
    "plt.show()"
   ]
  },
  {
   "cell_type": "code",
   "execution_count": 148,
   "metadata": {
    "collapsed": true
   },
   "outputs": [],
   "source": [
    "plt.plot(lambdasf[3], 'bo')\n",
    "plt.title('Coeficientes com Lambda 3\\n')\n",
    "plt.show()"
   ]
  },
  {
   "cell_type": "code",
   "execution_count": 149,
   "metadata": {
    "collapsed": true
   },
   "outputs": [],
   "source": [
    "plt.plot(lambdasf[4], 'bo')\n",
    "plt.title('Coeficientes com Lambda 4\\n')\n",
    "plt.show()"
   ]
  },
  {
   "cell_type": "code",
   "execution_count": 150,
   "metadata": {
    "collapsed": true
   },
   "outputs": [],
   "source": [
    "plt.plot(lambdasf[5], 'bo')\n",
    "plt.title('Coeficientes com Lambda 5\\n')\n",
    "plt.show()"
   ]
  },
  {
   "cell_type": "code",
   "execution_count": 172,
   "metadata": {
    "collapsed": false
   },
   "outputs": [],
   "source": [
    "lambdas = []\n",
    "lambdas_test = []\n",
    "for i in lambdasf:\n",
    "    lambdas_test.append(cost(y_test, np.dot(x_test,i)))"
   ]
  },
  {
   "cell_type": "code",
   "execution_count": 174,
   "metadata": {
    "collapsed": false
   },
   "outputs": [],
   "source": [
    "plt.plot(np.arange(6), lambdas_test, 'ro')\n",
    "plt.xlabel('Lambdas')\n",
    "plt.ylabel('Erro Quadratico Medio(EQM)')\n",
    "plt.title(\"Conjunto de Teste\")\n",
    "plt.show()"
   ]
  },
  {
   "cell_type": "code",
   "execution_count": null,
   "metadata": {
    "collapsed": true
   },
   "outputs": [],
   "source": []
  }
 ],
 "metadata": {
  "kernelspec": {
   "display_name": "Python 3",
   "language": "python",
   "name": "python3"
  },
  "language_info": {
   "codemirror_mode": {
    "name": "ipython",
    "version": 3
   },
   "file_extension": ".py",
   "mimetype": "text/x-python",
   "name": "python",
   "nbconvert_exporter": "python",
   "pygments_lexer": "ipython3",
   "version": "3.6.0"
  },
  "widgets": {
   "state": {},
   "version": "1.1.2"
  }
 },
 "nbformat": 4,
 "nbformat_minor": 0
}
