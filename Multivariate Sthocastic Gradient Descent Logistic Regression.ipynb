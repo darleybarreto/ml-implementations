{
 "cells": [
  {
   "cell_type": "code",
   "execution_count": 36,
   "metadata": {
    "collapsed": true
   },
   "outputs": [],
   "source": [
    "import numpy as np\n",
    "from pylab import scatter, show, legend, xlabel, ylabel, plot\n",
    "import random\n",
    "from sklearn.utils import shuffle"
   ]
  },
  {
   "cell_type": "code",
   "execution_count": 37,
   "metadata": {
    "collapsed": true
   },
   "outputs": [],
   "source": [
    "def sigmoid(X):\n",
    "    return 1 / (1 + np.exp(- X))\n",
    "\n",
    "def cost(X, y, theta):\n",
    "    y_ = sigmoid(np.dot(X, theta))\n",
    "    log_l = (-y).T*np.log(y_) - (1-y).T*np.log(1-y_)\n",
    "    return log_l\n",
    "\n",
    "\n",
    "def sthocastic_logistic_gradient_descent(x, y, theta, alpha, epoc):\n",
    "    yi_number = y.size\n",
    "       \n",
    "    cost_iter = []\n",
    "\n",
    "    for i in np.arange(epoc):\n",
    "        for j in np.arange(y.shape[0]):\n",
    "            \n",
    "            theta = theta-(alpha/yi_number)*(x[j].T*np.asarray((x*theta)[j] - y[j])[0]).reshape((3, 1))\n",
    "        cost_iter.append(cost(x,y,theta))\n",
    "        x, y = shuffle(x, y, random_state=np.random.RandomState(random.randint(1, 10000)))  \n",
    "\n",
    "    return theta, cost_iter"
   ]
  },
  {
   "cell_type": "code",
   "execution_count": null,
   "metadata": {
    "collapsed": true
   },
   "outputs": [],
   "source": []
  },
  {
   "cell_type": "code",
   "execution_count": 38,
   "metadata": {
    "collapsed": false
   },
   "outputs": [],
   "source": [
    "data = np.loadtxt('/ex2data1.txt', delimiter=',')"
   ]
  },
  {
   "cell_type": "code",
   "execution_count": 39,
   "metadata": {
    "collapsed": false
   },
   "outputs": [],
   "source": [
    "x_train = np.ones(shape=(70,3))\n",
    "x_train[:, 1:]  = data[:70, :2]\n",
    "\n",
    "y_train = np.zeros(shape=(70,1))\n",
    "y_train[:,0] = data[:70 ,2]\n",
    "\n",
    "x_test = np.ones(shape=(30,3))\n",
    "x_test[:, 1:]  = data[70:, :2]\n",
    "\n",
    "y_test = np.zeros(shape=(30,1))\n",
    "y_test[:,0] = data[70: ,2]\n",
    "\n",
    "alpha = 0.01\n",
    "epoc = 1000\n",
    "\n",
    "#iniciando theta com valores 0 e dimensoes 3 x 1  \n",
    "theta = np.matrix([[0.],[0.],[0.]])\n",
    "\n",
    "t, j = sthocastic_logistic_gradient_descent(x_train, y_train, theta, alpha, epoc)\n",
    "\n",
    "result = np.dot(x_train, t)\n",
    "plot(np.arange(epoc), [i.item(0) for i in j])\n",
    "xlabel('Epocas de treinamento')\n",
    "ylabel('Erro Quadratico Medio(EQM)')\n",
    "show()"
   ]
  },
  {
   "cell_type": "code",
   "execution_count": 16,
   "metadata": {
    "collapsed": false
   },
   "outputs": [],
   "source": [
    "X = data[:, 0:2]\n",
    "y = data[:, 2]\n",
    "\n",
    "admitted = (Y == 1)\n",
    "nadmitted = (Y == 0)\n",
    "\n",
    "scatter(X[admitted,0], X[admitted,1], marker='+', c='b')\n",
    "scatter(X[nadmitted,0], X[nadmitted,1], marker='o', c='y')\n",
    "xlabel('Teste 1')\n",
    "ylabel('Teste 2')\n",
    "legend(['Not Admitted', 'Admitted'])\n",
    "\n",
    "show()\n"
   ]
  },
  {
   "cell_type": "code",
   "execution_count": 27,
   "metadata": {
    "collapsed": false
   },
   "outputs": [
    {
     "data": {
      "text/plain": [
       "(-24.955278335880681, 0.20458393546915285, 0.19980387186579654)"
      ]
     },
     "execution_count": 27,
     "metadata": {},
     "output_type": "execute_result"
    }
   ],
   "source": [
    "theta0, theta1, theta2"
   ]
  },
  {
   "cell_type": "code",
   "execution_count": 1,
   "metadata": {
    "collapsed": false
   },
   "outputs": [
    {
     "ename": "NameError",
     "evalue": "name 'legend' is not defined",
     "output_type": "error",
     "traceback": [
      "\u001b[1;31m---------------------------------------------------------------------------\u001b[0m",
      "\u001b[1;31mNameError\u001b[0m                                 Traceback (most recent call last)",
      "\u001b[1;32m<ipython-input-1-f5a99fe4717b>\u001b[0m in \u001b[0;36m<module>\u001b[1;34m()\u001b[0m\n\u001b[0;32m     13\u001b[0m \u001b[0mplt\u001b[0m\u001b[1;33m.\u001b[0m\u001b[0mscatter\u001b[0m\u001b[1;33m(\u001b[0m\u001b[0mX\u001b[0m\u001b[1;33m[\u001b[0m\u001b[0mpos\u001b[0m\u001b[1;33m,\u001b[0m\u001b[1;36m0\u001b[0m\u001b[1;33m]\u001b[0m\u001b[1;33m,\u001b[0m \u001b[0mX\u001b[0m\u001b[1;33m[\u001b[0m\u001b[0mpos\u001b[0m\u001b[1;33m,\u001b[0m\u001b[1;36m1\u001b[0m\u001b[1;33m]\u001b[0m\u001b[1;33m,\u001b[0m \u001b[0mmarker\u001b[0m\u001b[1;33m=\u001b[0m\u001b[1;34m'+'\u001b[0m\u001b[1;33m,\u001b[0m \u001b[0mc\u001b[0m\u001b[1;33m=\u001b[0m\u001b[1;34m'b'\u001b[0m\u001b[1;33m)\u001b[0m\u001b[1;33m\u001b[0m\u001b[0m\n\u001b[0;32m     14\u001b[0m \u001b[0mplt\u001b[0m\u001b[1;33m.\u001b[0m\u001b[0mscatter\u001b[0m\u001b[1;33m(\u001b[0m\u001b[0mX\u001b[0m\u001b[1;33m[\u001b[0m\u001b[0mneg\u001b[0m\u001b[1;33m,\u001b[0m\u001b[1;36m0\u001b[0m\u001b[1;33m]\u001b[0m\u001b[1;33m,\u001b[0m \u001b[0mX\u001b[0m\u001b[1;33m[\u001b[0m\u001b[0mneg\u001b[0m\u001b[1;33m,\u001b[0m\u001b[1;36m1\u001b[0m\u001b[1;33m]\u001b[0m\u001b[1;33m,\u001b[0m \u001b[0mmarker\u001b[0m\u001b[1;33m=\u001b[0m\u001b[1;34m'o'\u001b[0m\u001b[1;33m,\u001b[0m \u001b[0mc\u001b[0m\u001b[1;33m=\u001b[0m\u001b[1;34m'y'\u001b[0m\u001b[1;33m)\u001b[0m\u001b[1;33m\u001b[0m\u001b[0m\n\u001b[1;32m---> 15\u001b[1;33m \u001b[0mlegend\u001b[0m\u001b[1;33m(\u001b[0m\u001b[1;33m[\u001b[0m\u001b[1;34m'Not Admitted'\u001b[0m\u001b[1;33m,\u001b[0m \u001b[1;34m'Admitted'\u001b[0m\u001b[1;33m]\u001b[0m\u001b[1;33m)\u001b[0m\u001b[1;33m\u001b[0m\u001b[0m\n\u001b[0m\u001b[0;32m     16\u001b[0m \u001b[0mplt\u001b[0m\u001b[1;33m.\u001b[0m\u001b[0mxlabel\u001b[0m\u001b[1;33m(\u001b[0m\u001b[1;34m\"Teste 1\"\u001b[0m\u001b[1;33m)\u001b[0m\u001b[1;33m\u001b[0m\u001b[0m\n\u001b[0;32m     17\u001b[0m \u001b[0mplt\u001b[0m\u001b[1;33m.\u001b[0m\u001b[0mylabel\u001b[0m\u001b[1;33m(\u001b[0m\u001b[1;34m\"Teste 2\"\u001b[0m\u001b[1;33m)\u001b[0m\u001b[1;33m\u001b[0m\u001b[0m\n",
      "\u001b[1;31mNameError\u001b[0m: name 'legend' is not defined"
     ]
    }
   ],
   "source": [
    "import numpy as np\n",
    "import pandas as pd\n",
    "import matplotlib.pyplot as plt\n",
    "from sklearn import linear_model\n",
    "\n",
    "data = np.loadtxt('/ex2data1.txt', delimiter=',')\n",
    "X = data[:, 0:2]\n",
    "y = data[:, 2]\n",
    "\n",
    "# plot\n",
    "pos = (y==1) # numpy bool index\n",
    "neg = (y==0) # numpy bool index\n",
    "plt.scatter(X[pos,0], X[pos,1], marker='+', c='b')\n",
    "plt.scatter(X[neg,0], X[neg,1], marker='o', c='y')\n",
    "plt.legend(['Not Admitted', 'Admitted'])\n",
    "plt.xlabel(\"Teste 1\")\n",
    "plt.ylabel(\"Teste 2\")\n",
    "\n",
    "# Logistic regression model with no regularization\n",
    "model = linear_model.LogisticRegression(C = 100000., tol= 0.01,max_iter=1000)\n",
    "model.fit(X, y)\n",
    "\n",
    "# Extract model parameter (theta0, theta1, theta2)\n",
    "[theta0] = model.intercept_\n",
    "[[theta1, theta2]] = model.coef_\n",
    "# Plot decision boundary\n",
    "plot_x = np.array([min(X[:,0])-2, max(X[:,0])+2])   # lowest and highest x1\n",
    "plot_y = - (theta0 + theta1*plot_x) / theta2   # calculate x2\n",
    "plt.plot(plot_x, plot_y, 'b')\n",
    "\n",
    "plt.show()"
   ]
  },
  {
   "cell_type": "code",
   "execution_count": 35,
   "metadata": {
    "collapsed": false
   },
   "outputs": [
    {
     "data": {
      "text/plain": [
       "(-6.9510915588218598, 0.061129887868987695, 0.055515800079894227)"
      ]
     },
     "execution_count": 35,
     "metadata": {},
     "output_type": "execute_result"
    }
   ],
   "source": [
    "theta0, theta1, theta2"
   ]
  },
  {
   "cell_type": "code",
   "execution_count": null,
   "metadata": {
    "collapsed": true
   },
   "outputs": [],
   "source": [
    "plt.plot(np.arange(epoc), j)\n",
    "plt.xlabel('Epocas de treinamento')\n",
    "plt.ylabel('Erro Quadratico Medio(EQM)')\n",
    "plt.show()"
   ]
  }
 ],
 "metadata": {
  "kernelspec": {
   "display_name": "Python 3",
   "language": "python",
   "name": "python3"
  },
  "language_info": {
   "codemirror_mode": {
    "name": "ipython",
    "version": 3
   },
   "file_extension": ".py",
   "mimetype": "text/x-python",
   "name": "python",
   "nbconvert_exporter": "python",
   "pygments_lexer": "ipython3",
   "version": "3.6.0"
  },
  "widgets": {
   "state": {},
   "version": "1.1.2"
  }
 },
 "nbformat": 4,
 "nbformat_minor": 0
}
