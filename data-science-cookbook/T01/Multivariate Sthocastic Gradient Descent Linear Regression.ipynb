{
 "cells": [
  {
   "cell_type": "code",
   "execution_count": 1,
   "metadata": {
    "collapsed": true
   },
   "outputs": [],
   "source": [
    "import numpy as np\n",
    "import matplotlib.pyplot as plt\n",
    "from sklearn.utils import shuffle\n",
    "from sklearn.linear_model import LinearRegression\n",
    "from __future__ import print_function, division"
   ]
  },
  {
   "cell_type": "code",
   "execution_count": 2,
   "metadata": {
    "collapsed": true
   },
   "outputs": [],
   "source": [
    "def predict(row, coefficients):\n",
    "    return coefficients[0] + sum(x*y for x,y in zip(coefficients[1:], row))\n",
    "\n",
    "def coef_SGD(X, y, epochs, alpha):\n",
    "    \n",
    "    W = np.zeros(shape=(X.shape[1]+1,))\n",
    "    for epoch in range(epochs):\n",
    "        for features, label in zip(X, y):\n",
    "            # calculando predicoes\n",
    "            preds = predict(features, W)\n",
    "            # agora com as predicoes, determinamos o erro\n",
    "            error = preds - label\n",
    "\n",
    "            # atualizando pesos\n",
    "            W[0] += -alpha*error\n",
    "            for i in range(len(features)):\n",
    "                W[i+1] += -alpha*error*features[i]\n",
    "                \n",
    "    return W\n",
    "\n",
    "def computeSGD(W, test):\n",
    "    return [predict(row, W) for row in test]\n",
    "\n",
    "def score(predicted, actual):\n",
    "    u = sum([(x-y)**2 for x, y in zip(actual, predicted)])\n",
    "    v = sum([(actual[i] - actual.mean())**2 for i in range(len(actual))])\n",
    "    return 1 - u/v\n"
   ]
  },
  {
   "cell_type": "code",
   "execution_count": 3,
   "metadata": {
    "collapsed": false
   },
   "outputs": [],
   "source": [
    "matrix = np.loadtxt(\"bike_sharing.csv\", skiprows=1, delimiter=',')\n",
    "\n",
    "X = matrix[:,:14]\n",
    "\n",
    "X_train = X[:int(X.shape[0]*0.6),:]\n",
    "y_train = matrix[:int(X.shape[0]*0.6),14]\n",
    "\n",
    "X_test = X[int(X.shape[0]*0.6):,:]\n",
    "y_test = matrix[int(X.shape[0]*0.6):,14]"
   ]
  },
  {
   "cell_type": "code",
   "execution_count": 4,
   "metadata": {
    "collapsed": false,
    "scrolled": true
   },
   "outputs": [],
   "source": [
    "epochs, alpha = 1, 0.000001\n",
    "W = coef_SGD(X_train, y_train, epochs, alpha)\n",
    "score1 = score(computeSGD(W, X_test), y_test)"
   ]
  },
  {
   "cell_type": "code",
   "execution_count": 5,
   "metadata": {
    "collapsed": false
   },
   "outputs": [],
   "source": [
    "clf = LinearRegression()\n",
    "clf.fit(X_train, y_train)\n",
    "score2 = clf.score(X_test, y_test)"
   ]
  },
  {
   "cell_type": "markdown",
   "metadata": {
    "collapsed": true
   },
   "source": [
    " "
   ]
  },
  {
   "cell_type": "markdown",
   "metadata": {},
   "source": [
    "## Questões"
   ]
  },
  {
   "cell_type": "markdown",
   "metadata": {},
   "source": [
    "### Como você escolheu os parâmetros \"número de iterações\" e \"taxa de aprendizado\"? "
   ]
  },
  {
   "cell_type": "markdown",
   "metadata": {},
   "source": [
    "A escolha foi feita manualmente, testando, treinando, observando o resultado e escolhendo outros parâmetros novamente."
   ]
  },
  {
   "cell_type": "markdown",
   "metadata": {},
   "source": [
    "### Analise os resultados obtidos. O que o modelo diz sobre a importância de cada atributo?"
   ]
  },
  {
   "cell_type": "markdown",
   "metadata": {},
   "source": [
    "O vetor de pesos nos diz quais atributos possui mais ou menos importância. Assim, as posições referentes aos maiores valores indicam os atributos mais importantes do nosso dataset."
   ]
  },
  {
   "cell_type": "markdown",
   "metadata": {},
   "source": [
    "### Compare com o resultado obtido pelo metodo dos minimos quadrados (do scikit-learn)"
   ]
  },
  {
   "cell_type": "code",
   "execution_count": 6,
   "metadata": {
    "collapsed": false
   },
   "outputs": [
    {
     "name": "stdout",
     "output_type": "stream",
     "text": [
      "Score da Regressão Linear com SGD: 0.998183084484\n",
      "Score da Regressão Linear do Scikit-Learn: 0.998188952814\n"
     ]
    }
   ],
   "source": [
    "print(\"Score da Regressão Linear com SGD:\", score1)\n",
    "print(\"Score da Regressão Linear do Scikit-Learn:\", score2)"
   ]
  },
  {
   "cell_type": "markdown",
   "metadata": {},
   "source": [
    "Como podemos notar, o valor obtido pela implementação do zero é próximo do valor estimado pela implementação da biblioteca, para os parâmetros passados."
   ]
  }
 ],
 "metadata": {
  "anaconda-cloud": {},
  "kernelspec": {
   "display_name": "Python 3",
   "language": "python",
   "name": "python3"
  },
  "language_info": {
   "codemirror_mode": {
    "name": "ipython",
    "version": 3
   },
   "file_extension": ".py",
   "mimetype": "text/x-python",
   "name": "python",
   "nbconvert_exporter": "python",
   "pygments_lexer": "ipython3",
   "version": "3.5.2"
  },
  "widgets": {
   "state": {},
   "version": "1.1.2"
  }
 },
 "nbformat": 4,
 "nbformat_minor": 0
}
