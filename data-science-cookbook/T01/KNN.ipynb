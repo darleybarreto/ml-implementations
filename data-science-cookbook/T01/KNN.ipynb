{
 "cells": [
  {
   "cell_type": "code",
   "execution_count": null,
   "metadata": {
    "collapsed": true
   },
   "outputs": [],
   "source": [
    "from collections import defaultdict\n",
    "from __future__ import print_function\n",
    "from sklearn.neighbors import KNeighborsClassifier\n",
    "import numpy as np"
   ]
  },
  {
   "cell_type": "code",
   "execution_count": null,
   "metadata": {
    "collapsed": false
   },
   "outputs": [],
   "source": [
    "class MyKNeighborsClassifier(object):\n",
    "    def __init__(self, n_neighbors=1):\n",
    "        self.n_neighbors = n_neighbors\n",
    "\n",
    "    def fit(self, X, y):\n",
    "        \"\"\"\n",
    "        Fixar dados de treino\n",
    "        \"\"\"\n",
    "        self.X = X\n",
    "        self.y = y\n",
    "\n",
    "    def _distance(self, data1, data2):\n",
    "        return np.sqrt(sum((data1 - data2)**2))\n",
    "\n",
    "    def _compute_weights(self, distances):\n",
    "        \"\"\"\n",
    "        distances -> lista de tuplas do tipo (distancia, label)\n",
    "        \"\"\"\n",
    "        return [(1, y) for d, y in distances]\n",
    "\n",
    "    def _predict_one(self, test):\n",
    "        distances = sorted((self._distance(x, test), y) for x, y in zip(self.X, self.y))\n",
    "        weights = self._compute_weights(distances[:self.n_neighbors])\n",
    "        weights_by_class = defaultdict(list)\n",
    "        \n",
    "        for d, c in weights:\n",
    "            weights_by_class[c].append(d)\n",
    "        return max((sum(val), key) for key, val in weights_by_class.items())[1]\n",
    "\n",
    "    def predict(self, X):\n",
    "        \"\"\"\n",
    "        Para cada vetor em x, a predicao sera feita\n",
    "        \"\"\"\n",
    "        return [self._predict_one(x) for x in X]\n",
    "\n",
    "    def score(self, X, y):\n",
    "        \"\"\"\n",
    "        Para fazer o score (valor de acerto), é preciso chamar o predict para as features e labes e,\n",
    "        para cada valor predito corretamente, temos o retorno de 1 na lista que sera somada e\n",
    "        dividida pela quantidade de vetores usados\n",
    "        \"\"\"\n",
    "        return sum(1 for p, t in zip(self.predict(X), y) if p == t) / len(y)"
   ]
  },
  {
   "cell_type": "code",
   "execution_count": null,
   "metadata": {
    "collapsed": false
   },
   "outputs": [],
   "source": [
    "data = np.loadtxt(\"haberman.data\",delimiter=\",\")\n",
    "ndata = np.random.permutation(data)\n",
    "\n",
    "size = len(ndata)\n",
    "nt = int(int(size*0.7))\n",
    "trfeatures = ndata[0:nt,0:3]\n",
    "ttfeatures = ndata[nt:size,0:3]\n",
    "trlabels = ndata[0:nt,3]\n",
    "ttlabels = ndata[nt:size,3]"
   ]
  },
  {
   "cell_type": "code",
   "execution_count": null,
   "metadata": {
    "collapsed": false
   },
   "outputs": [],
   "source": [
    "for i in range(1,11):\n",
    "    print(\"Com k = \" + str(i))\n",
    "    clf1 = MyKNeighborsClassifier(i)\n",
    "    clf1.fit(trfeatures, trlabels)\n",
    "    \n",
    "    clf2 = KNeighborsClassifier(n_neighbors=i)\n",
    "    clf2.fit(trfeatures, trlabels)\n",
    "    \n",
    "    print(\"MyKNeighborsClassifier\")\n",
    "    print(\"Treino: \", clf1.score(trfeatures, trlabels))\n",
    "    print(\"Teste: \", clf1.score(ttfeatures, ttlabels))\n",
    "    print()\n",
    "    \n",
    "    print(\"KNeighborsClassifier\")\n",
    "    print(\"Treino: \", clf2.score(trfeatures, trlabels))\n",
    "    print(\"Teste: \", clf2.score(ttfeatures, ttlabels))\n",
    "    print()\n"
   ]
  },
  {
   "cell_type": "code",
   "execution_count": null,
   "metadata": {
    "collapsed": true
   },
   "outputs": [],
   "source": []
  }
 ],
 "metadata": {
  "anaconda-cloud": {},
  "kernelspec": {
   "display_name": "Python 3",
   "language": "python",
   "name": "python3"
  },
  "language_info": {
   "codemirror_mode": {
    "name": "ipython",
    "version": 3
   },
   "file_extension": ".py",
   "mimetype": "text/x-python",
   "name": "python",
   "nbconvert_exporter": "python",
   "pygments_lexer": "ipython3",
   "version": "3.5.2"
  },
  "widgets": {
   "state": {},
   "version": "1.1.2"
  }
 },
 "nbformat": 4,
 "nbformat_minor": 0
}
