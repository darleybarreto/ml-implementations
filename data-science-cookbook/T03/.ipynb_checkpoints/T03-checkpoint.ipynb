{
 "cells": [
  {
   "cell_type": "markdown",
   "metadata": {},
   "source": [
    "# Recomendação de Noticias"
   ]
  },
  {
   "cell_type": "code",
   "execution_count": 1,
   "metadata": {
    "collapsed": false
   },
   "outputs": [],
   "source": [
    "import numpy as np\n",
    "import pandas as pd\n",
    "from sklearn import model_selection as ms\n",
    "from sklearn.metrics.pairwise import pairwise_distances\n",
    "from sklearn.metrics import mean_squared_error\n",
    "from math import sqrt\n",
    "from __future__ import division\n",
    "from json import loads"
   ]
  },
  {
   "cell_type": "code",
   "execution_count": 2,
   "metadata": {
    "collapsed": false
   },
   "outputs": [],
   "source": [
    "def recommend(preferences, similarity):\n",
    "    '''\n",
    "    preferences: UxI boolean matrix\n",
    "    similarity: UxU Jaccard distances matrix\n",
    "    '''\n",
    "    recommendation = np.zeros(preferences.shape,dtype=bool)\n",
    "    \n",
    "    for i in range(similarity.shape[0]):\n",
    "        # for every user\n",
    "        for j in range(preferences.shape[0]):\n",
    "            if i != j:\n",
    "                # for every another different user\n",
    "                # compute the dot product of a similarity between user i,j and the preferences of user j\n",
    "                axis = np.argmax(np.dot(similarity[i][j], preferences[j]))\n",
    "                # the max value of this dot product will be the product recommeded for user i\n",
    "                recommendation[i][axis] = True\n",
    "                \n",
    "    return recommendation\n",
    "\n",
    "def rmse(prediction, ground_truth):\n",
    "    '''\n",
    "    Root Mean Squared Error: http://statweb.stanford.edu/~susan/courses/s60/split/node60.html\n",
    "    sqrt(1/n*sum((x-x')**2))\n",
    "    '''\n",
    "    prediction = prediction[ground_truth.nonzero()].flatten() \n",
    "    ground_truth = ground_truth[ground_truth.nonzero()].flatten()\n",
    "    return sqrt(mean_squared_error(prediction, ground_truth))    \n",
    "    \n",
    "def get_recommend_user(user, users, items, k, recommendation):\n",
    "    '''\n",
    "    user: user whose recommended items shall be returned\n",
    "    users: dict corresponding to users ids\n",
    "    items: dict corresponding to items ids\n",
    "    k: the length of the list of the items recommended\n",
    "    recommendation: matrix corresponding to the recommended items\n",
    "    '''\n",
    "    if user in users:\n",
    "        u_items = np.nonzero(recommendation[users[user]] == True)\n",
    "        # return the k-len list of recommended items mongodb ids\n",
    "        return [items[i] for i in u_items[0][:k]]\n",
    "    \n",
    "def get_news_details(list_ids):\n",
    "    with open('news_data.json', 'r') as json_data:\n",
    "        d = loads(json_data.read())\n",
    "        return [news[\"title\"] for news in d for _id in list_ids if news[\"id\"] == _id]"
   ]
  },
  {
   "cell_type": "markdown",
   "metadata": {},
   "source": [
    "### Lendo o csv e transformando em um pandas.DataFrame"
   ]
  },
  {
   "cell_type": "code",
   "execution_count": 3,
   "metadata": {
    "collapsed": true
   },
   "outputs": [],
   "source": [
    "df = pd.read_csv('viewed_news.csv', sep='|', names=['user_id','news_id'])"
   ]
  },
  {
   "cell_type": "markdown",
   "metadata": {},
   "source": [
    "### Criando dicionarios para mapeamento de usuarios para id inteiro"
   ]
  },
  {
   "cell_type": "code",
   "execution_count": 4,
   "metadata": {
    "collapsed": false
   },
   "outputs": [],
   "source": [
    "users = {v:k for k, v in enumerate(df.user_id.unique())}\n",
    "items_name = {v:k for k, v in enumerate(df.news_id.unique())}"
   ]
  },
  {
   "cell_type": "markdown",
   "metadata": {},
   "source": [
    "### Separando os conjuntos em treino e teste com a especificação de 1/3 para cada usuário"
   ]
  },
  {
   "cell_type": "code",
   "execution_count": 5,
   "metadata": {
    "collapsed": false
   },
   "outputs": [],
   "source": [
    "n_users, n_items = len(users), len(items_name)\n",
    "\n",
    "train_data = pd.DataFrame(columns=['user_id','news_id'])\n",
    "test_data = pd.DataFrame(columns=['user_id','news_id'])\n",
    "\n",
    "for u_id in df.user_id.unique():\n",
    "    tr, tt = ms.train_test_split(df.loc[df['user_id'] == u_id], test_size=1./3.)\n",
    "    \n",
    "    train_data = pd.concat([train_data, tr])\n",
    "    test_data = pd.concat([test_data, tt])\n"
   ]
  },
  {
   "cell_type": "markdown",
   "metadata": {},
   "source": [
    "### Criando matrizes UxI de treino e teste"
   ]
  },
  {
   "cell_type": "code",
   "execution_count": 6,
   "metadata": {
    "collapsed": false
   },
   "outputs": [],
   "source": [
    "train_data_matrix = np.zeros((n_users, n_items), dtype=bool)\n",
    "for line in train_data.itertuples():\n",
    "    train_data_matrix[users[line[1]], items_name[line[2]]] = True  \n",
    "\n",
    "test_data_matrix = np.zeros((n_users, n_items), dtype=bool)\n",
    "for line in test_data.itertuples():\n",
    "    test_data_matrix[users[line[1]], items_name[line[2]]] = True"
   ]
  },
  {
   "cell_type": "markdown",
   "metadata": {},
   "source": [
    "### Calculando distância jaccard da matriz train_data_matrix"
   ]
  },
  {
   "cell_type": "code",
   "execution_count": 7,
   "metadata": {
    "collapsed": false
   },
   "outputs": [],
   "source": [
    "user_similarity = pairwise_distances(train_data_matrix, metric='jaccard')"
   ]
  },
  {
   "cell_type": "markdown",
   "metadata": {},
   "source": [
    "### Criando matriz user_prediction de itens a serem recomendados"
   ]
  },
  {
   "cell_type": "code",
   "execution_count": 8,
   "metadata": {
    "collapsed": false
   },
   "outputs": [],
   "source": [
    "user_prediction = recommend(train_data_matrix, user_similarity)"
   ]
  },
  {
   "cell_type": "markdown",
   "metadata": {},
   "source": [
    "### Testando a recomendação para um usuário"
   ]
  },
  {
   "cell_type": "code",
   "execution_count": 9,
   "metadata": {
    "collapsed": false
   },
   "outputs": [],
   "source": [
    "items_index = {k:v for k, v in enumerate(df.news_id.unique())}\n",
    "k = 10\n",
    "user = '556f426b1700003500aac7f5'\n",
    "news_ids = get_recommend_user(user, users, items_index, k, user_prediction)"
   ]
  },
  {
   "cell_type": "markdown",
   "metadata": {},
   "source": [
    "### Avaliando a predição com o RMSE"
   ]
  },
  {
   "cell_type": "code",
   "execution_count": 10,
   "metadata": {
    "collapsed": false
   },
   "outputs": [
    {
     "name": "stdout",
     "output_type": "stream",
     "text": [
      "User-based CF RMSE: 0.8270223921027264\n"
     ]
    },
    {
     "name": "stderr",
     "output_type": "stream",
     "text": [
      "/home/darley/miniconda3/lib/python3.5/site-packages/sklearn/metrics/regression.py:232: DeprecationWarning: numpy boolean subtract, the `-` operator, is deprecated, use the bitwise_xor, the `^` operator, or the logical_xor function instead.\n",
      "  output_errors = np.average((y_true - y_pred) ** 2, axis=0,\n"
     ]
    }
   ],
   "source": [
    "print ('User-based CF RMSE: ' + str(rmse(user_prediction, test_data_matrix)))"
   ]
  },
  {
   "cell_type": "markdown",
   "metadata": {},
   "source": [
    "### Por curiosidade, verifico as informações dos ids de notícias que estão em news_ids"
   ]
  },
  {
   "cell_type": "code",
   "execution_count": 11,
   "metadata": {
    "collapsed": false
   },
   "outputs": [],
   "source": [
    "details = get_news_details(news_ids)"
   ]
  },
  {
   "cell_type": "code",
   "execution_count": 12,
   "metadata": {
    "collapsed": false
   },
   "outputs": [
    {
     "data": {
      "text/plain": [
       "['Comissão aprova indicação de irmão de Evandro Leitão na Arce',\n",
       " 'Dilma assume pessoalmente articulação para veto da \"pauta-bomba\" no Senado',\n",
       " 'Não há intenção do governo em modificar propostas enviadas ao Congresso, diz Levy',\n",
       " 'Deputados adiam votação de alterações no Desarmamento para próxima terça',\n",
       " 'Projeto que eleva multa de táxi clandestino poderá ser colocado em pauta na Câmara',\n",
       " 'Votação de projeto que altera Estatuto do Desarmamento fica para terça-feira',\n",
       " 'Votação de projeto que altera Estatuto do Desarmamento fica para terça-feira',\n",
       " 'Equipe chinesa vence o Crossfire Stars Invitational Brazil 2015',\n",
       " 'Assembleia Legislativa aprova aumento do ICMS e IPVA, outros produtos terão alíquota reduzida',\n",
       " 'É (quase) Natal!']"
      ]
     },
     "execution_count": 12,
     "metadata": {},
     "output_type": "execute_result"
    }
   ],
   "source": [
    "details"
   ]
  },
  {
   "cell_type": "code",
   "execution_count": null,
   "metadata": {
    "collapsed": true
   },
   "outputs": [],
   "source": []
  }
 ],
 "metadata": {
  "anaconda-cloud": {},
  "kernelspec": {
   "display_name": "Python [conda root]",
   "language": "python",
   "name": "conda-root-py"
  },
  "language_info": {
   "codemirror_mode": {
    "name": "ipython",
    "version": 3
   },
   "file_extension": ".py",
   "mimetype": "text/x-python",
   "name": "python",
   "nbconvert_exporter": "python",
   "pygments_lexer": "ipython3",
   "version": "3.5.2"
  },
  "widgets": {
   "state": {},
   "version": "1.1.2"
  }
 },
 "nbformat": 4,
 "nbformat_minor": 0
}
