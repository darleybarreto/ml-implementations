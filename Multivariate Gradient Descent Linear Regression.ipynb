{
 "cells": [
  {
   "cell_type": "code",
   "execution_count": 8,
   "metadata": {
    "collapsed": true
   },
   "outputs": [],
   "source": [
    "#%matplotlib inline\n",
    "import numpy as np\n",
    "from mpl_toolkits.mplot3d import Axes3D\n",
    "import matplotlib.pyplot as plt\n",
    "from pylab import plot, show, xlabel, ylabel\n",
    "\n",
    "def cost(x, y, theta):\n",
    "\n",
    "    yi_number = y.size\n",
    "\n",
    "    cost = (1./(2.*yi_number))*(x*theta-y).T*(x*theta-y)\n",
    "    \n",
    "    return cost.flat[0]\n",
    "\n",
    "# gradiente descendente\n",
    "def gradient_descent(x, y, theta, alpha, epoc):\n",
    " \n",
    "    yi_number = y.size\n",
    "       \n",
    "    cost_iter = []\n",
    "\n",
    "    for i in np.arange(epoc):\n",
    "        \n",
    "        theta = theta-(alpha/yi_number)*x.T*(x*theta-y)\n",
    "        cost_iter.append(cost(x,y,theta))\n",
    "\n",
    "    return theta, cost_iter"
   ]
  },
  {
   "cell_type": "code",
   "execution_count": 17,
   "metadata": {
    "collapsed": false
   },
   "outputs": [],
   "source": [
    "data = np.loadtxt('/ex1data2.txt', delimiter=' ')\n",
    "\n",
    "x = np.ones(data.shape)\n",
    "x[:, :2] = data[:, :2]\n",
    "\n",
    "y = np.zeros(shape=(data.shape[0],1))\n",
    "y[:,0] = data[:,2]\n",
    "\n",
    "alpha = 0.01\n",
    "epoc = 100\n",
    "\n",
    "#iniciando theta com valores 0 e dimensoes 3 x 1  \n",
    "theta = np.matrix([[0.],[0.],[0.]])\n",
    "\n",
    "fig = plt.figure()\n",
    "ax = fig.add_subplot(111, projection='3d')\n",
    "n = 100\n",
    "for c, m, zl, zh in [('r', 'o', -50, -25)]:\n",
    "    xs = data[:, 0]\n",
    "    ys = data[:, 1]\n",
    "    zs = data[:, 2]\n",
    "    ax.scatter(xs, ys, zs, c=c, marker=m)\n",
    "ax.set_xlabel('Area da imovel')\n",
    "ax.set_ylabel('Numero de Quartos')\n",
    "ax.set_zlabel('Preco do imovel')\n",
    "plt.show()\n",
    "\n",
    "t, j = gradient_descent(x,y, theta, alpha, epoc)\n",
    "\n",
    "plt.plot(np.arange(epoc), j)\n",
    "plt.xlabel('Epocas')\n",
    "plt.ylabel('Custo')\n",
    "plt.show()\n"
   ]
  },
  {
   "cell_type": "code",
   "execution_count": null,
   "metadata": {
    "collapsed": true
   },
   "outputs": [],
   "source": []
  }
 ],
 "metadata": {
  "kernelspec": {
   "display_name": "Python 3",
   "language": "python",
   "name": "python3"
  },
  "language_info": {
   "codemirror_mode": {
    "name": "ipython",
    "version": 3
   },
   "file_extension": ".py",
   "mimetype": "text/x-python",
   "name": "python",
   "nbconvert_exporter": "python",
   "pygments_lexer": "ipython3",
   "version": "3.6.0"
  },
  "widgets": {
   "state": {},
   "version": "1.1.2"
  }
 },
 "nbformat": 4,
 "nbformat_minor": 0
}
